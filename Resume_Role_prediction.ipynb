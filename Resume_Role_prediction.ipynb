{
 "cells": [
  {
   "cell_type": "code",
   "execution_count": 133,
   "metadata": {},
   "outputs": [],
   "source": [
    "### Resume Datatset\n",
    "\n",
    "# Required libraries/ packages\n",
    "import pandas as pd\n",
    "import re\n",
    "import textract\n",
    "from sklearn.model_selection import train_test_split\n",
    "from sklearn.feature_extraction.text import TfidfVectorizer\n",
    "from sklearn import preprocessing\n",
    "from sklearn.ensemble import GradientBoostingClassifier\n",
    "from sklearn.metrics import classification_report\n"
   ]
  },
  {
   "cell_type": "code",
   "execution_count": 134,
   "metadata": {},
   "outputs": [
    {
     "name": "stdout",
     "output_type": "stream",
     "text": [
      "<class 'pandas.core.frame.DataFrame'>\n",
      "RangeIndex: 962 entries, 0 to 961\n",
      "Data columns (total 2 columns):\n",
      " #   Column    Non-Null Count  Dtype \n",
      "---  ------    --------------  ----- \n",
      " 0   Category  962 non-null    object\n",
      " 1   Resume    962 non-null    object\n",
      "dtypes: object(2)\n",
      "memory usage: 15.2+ KB\n"
     ]
    },
    {
     "data": {
      "text/plain": [
       "Category\n",
       "Java Developer               0.087318\n",
       "Testing                      0.072765\n",
       "DevOps Engineer              0.057173\n",
       "Python Developer             0.049896\n",
       "Web Designing                0.046778\n",
       "HR                           0.045738\n",
       "Hadoop                       0.043659\n",
       "Blockchain                   0.041580\n",
       "ETL Developer                0.041580\n",
       "Operations Manager           0.041580\n",
       "Data Science                 0.041580\n",
       "Sales                        0.041580\n",
       "Mechanical Engineer          0.041580\n",
       "Arts                         0.037422\n",
       "Database                     0.034304\n",
       "Electrical Engineering       0.031185\n",
       "Health and fitness           0.031185\n",
       "PMO                          0.031185\n",
       "Business Analyst             0.029106\n",
       "DotNet Developer             0.029106\n",
       "Automation Testing           0.027027\n",
       "Network Security Engineer    0.025988\n",
       "SAP Developer                0.024948\n",
       "Civil Engineer               0.024948\n",
       "Advocate                     0.020790\n",
       "Name: proportion, dtype: float64"
      ]
     },
     "execution_count": 134,
     "metadata": {},
     "output_type": "execute_result"
    }
   ],
   "source": [
    "df=pd.read_csv(r\"C:\\Users\\acer\\Downloads\\UpdatedResumeDataSet.csv\\UpdatedResumeDataSet.csv\")\n",
    "\n",
    "# dataset source https://www.kaggle.com/datasets/gauravduttakiit/resume-dataset\n",
    "\n",
    "df.info() # nice, all non null\n",
    "df['Category'].value_counts(normalize=True) # nt exactly suuuuper even but ok ah\n",
    "# can prob replicate those ard 40> get each category to around 80?"
   ]
  },
  {
   "cell_type": "code",
   "execution_count": 135,
   "metadata": {},
   "outputs": [],
   "source": [
    "up_df=pd.DataFrame(columns=['Category','Resume'])\n",
    "\n",
    "for e in df['Category'].unique():\n",
    "    cat=df[df['Category']==e]['Category']\n",
    "    val_counts=cat.value_counts().values[0]\n",
    "    up=80-val_counts\n",
    "    if up<0:\n",
    "        res=0 \n",
    "    elif up>val_counts:\n",
    "        res=val_counts \n",
    "    else:\n",
    "        res=up\n",
    "    for i,r in (df.iloc[(cat.sample(res).index)]).iterrows():\n",
    "        up_df.loc[len(up_df)]=r"
   ]
  },
  {
   "cell_type": "code",
   "execution_count": 136,
   "metadata": {},
   "outputs": [
    {
     "data": {
      "text/plain": [
       "Category\n",
       "Java Developer               0.049065\n",
       "Data Science                 0.046729\n",
       "Blockchain                   0.046729\n",
       "ETL Developer                0.046729\n",
       "Hadoop                       0.046729\n",
       "DevOps Engineer              0.046729\n",
       "Python Developer             0.046729\n",
       "Operations Manager           0.046729\n",
       "HR                           0.046729\n",
       "Testing                      0.046729\n",
       "Sales                        0.046729\n",
       "Mechanical Engineer          0.046729\n",
       "Web Designing                0.046729\n",
       "Arts                         0.042056\n",
       "Database                     0.038551\n",
       "Electrical Engineering       0.035047\n",
       "Health and fitness           0.035047\n",
       "PMO                          0.035047\n",
       "Business Analyst             0.032710\n",
       "DotNet Developer             0.032710\n",
       "Automation Testing           0.030374\n",
       "Network Security Engineer    0.029206\n",
       "SAP Developer                0.028037\n",
       "Civil Engineer               0.028037\n",
       "Advocate                     0.023364\n",
       "Name: proportion, dtype: float64"
      ]
     },
     "execution_count": 136,
     "metadata": {},
     "output_type": "execute_result"
    }
   ],
   "source": [
    "sample_df=pd.concat([df,up_df],axis=0)\n",
    "sample_df['Category'].value_counts(normalize=True) # much more even distribution"
   ]
  },
  {
   "cell_type": "code",
   "execution_count": 137,
   "metadata": {},
   "outputs": [
    {
     "data": {
      "text/plain": [
       "['Advocate',\n",
       " 'Arts',\n",
       " 'Automation Testing',\n",
       " 'Blockchain',\n",
       " 'Business Analyst',\n",
       " 'Civil Engineer',\n",
       " 'Data Science',\n",
       " 'Database',\n",
       " 'DevOps Engineer',\n",
       " 'DotNet Developer',\n",
       " 'ETL Developer',\n",
       " 'Electrical Engineering',\n",
       " 'HR',\n",
       " 'Hadoop',\n",
       " 'Health and fitness',\n",
       " 'Java Developer',\n",
       " 'Mechanical Engineer',\n",
       " 'Network Security Engineer',\n",
       " 'Operations Manager',\n",
       " 'PMO',\n",
       " 'Python Developer',\n",
       " 'SAP Developer',\n",
       " 'Sales',\n",
       " 'Testing',\n",
       " 'Web Designing']"
      ]
     },
     "execution_count": 137,
     "metadata": {},
     "output_type": "execute_result"
    }
   ],
   "source": [
    "## Time to clean the dataset\n",
    "\n",
    "# Analyse roles first > check if any overlap is present\n",
    "sorted(sample_df['Category'].unique()) # unique, all single cat, no real overlap due to diff cases (Data Science vs data science)\n",
    "# will leave category as it is"
   ]
  },
  {
   "cell_type": "code",
   "execution_count": 149,
   "metadata": {},
   "outputs": [
    {
     "data": {
      "text/plain": [
       "0    skills programming languages python pandas num...\n",
       "1    education details may 2013 to may 2017 b e uit...\n",
       "2    areas of interest deep learning control system...\n",
       "3    skills r python sap hana tableau sap hana sql ...\n",
       "4    education details mca ymcaust faridabad haryan...\n",
       "Name: Resume, dtype: object"
      ]
     },
     "execution_count": 149,
     "metadata": {},
     "output_type": "execute_result"
    }
   ],
   "source": [
    "sample_df['Resume'].head() # for some resumes, have odd symbols (â¢/â )\n",
    "# could be due to diff encoding format; likely punctuation formats nt accepted\n",
    "# also contain newline char that are unnecessary: will focus on alphabets and numbers"
   ]
  },
  {
   "cell_type": "code",
   "execution_count": null,
   "metadata": {},
   "outputs": [],
   "source": [
    "sample_df['Resume']=sample_df['Resume'].apply(lambda x:str(' '.join(re.findall('[a-zA-Z0-9]+',x)).lower())) \n",
    "# get only letters and numbers; conver all to lowercase for standardization purposes\n",
    "# will mean focus won't be on tokenizing sentences; rather more so on keyword id <Tf-IDF?>\n",
    "# now will be to ID smth like common phrases/ words?\n",
    "# but first > training and testing data"
   ]
  },
  {
   "cell_type": "code",
   "execution_count": 140,
   "metadata": {},
   "outputs": [],
   "source": [
    "X_train,X_test,y_train,y_test = train_test_split(sample_df['Resume'],sample_df['Category'],stratify=sample_df['Category'],random_state=27)"
   ]
  },
  {
   "cell_type": "code",
   "execution_count": 141,
   "metadata": {},
   "outputs": [
    {
     "data": {
      "text/plain": [
       "<Axes: >"
      ]
     },
     "execution_count": 141,
     "metadata": {},
     "output_type": "execute_result"
    },
    {
     "data": {
      "image/png": "[encoded data removed]",
      "text/plain": [
       "<Figure size 640x480 with 1 Axes>"
      ]
     },
     "metadata": {},
     "output_type": "display_data"
    }
   ],
   "source": [
    "## NLTK > could look at TFIDF/ n-gram bag of words > key is to get smth dense; don't want a sparse vector for a model to be trained on\n",
    "# have to consider fluff stop words as well > id only the key words; but for word2vec approach - overall meaning of sentences wld be useful\n",
    "\n",
    "# speaking of\n",
    "\n",
    "X_train.str.len().plot(kind='box') # q a large range, w decent number of outliers\n",
    "# will monitor effect on dataset but for now will proceed with modelling"
   ]
  },
  {
   "cell_type": "code",
   "execution_count": 142,
   "metadata": {},
   "outputs": [
    {
     "data": {
      "text/plain": [
       "(1284, 7333)"
      ]
     },
     "execution_count": 142,
     "metadata": {},
     "output_type": "execute_result"
    }
   ],
   "source": [
    "# as for creating vectors\n",
    "vector=TfidfVectorizer(stop_words='english')\n",
    "X_mod_train=vector.fit_transform(X_train)\n",
    "X_mod_train.toarray().shape"
   ]
  },
  {
   "cell_type": "code",
   "execution_count": 143,
   "metadata": {},
   "outputs": [],
   "source": [
    "encoder = preprocessing.LabelEncoder()\n",
    "y_mod_train=encoder.fit_transform(y_train)"
   ]
  },
  {
   "cell_type": "code",
   "execution_count": 144,
   "metadata": {},
   "outputs": [
    {
     "data": {
      "text/html": [
       "<style>#sk-container-id-2 {color: black;}#sk-container-id-2 pre{padding: 0;}#sk-container-id-2 div.sk-toggleable {background-color: white;}#sk-container-id-2 label.sk-toggleable__label {cursor: pointer;display: block;width: 100%;margin-bottom: 0;padding: 0.3em;box-sizing: border-box;text-align: center;}#sk-container-id-2 label.sk-toggleable__label-arrow:before {content: \"▸\";float: left;margin-right: 0.25em;color: #696969;}#sk-container-id-2 label.sk-toggleable__label-arrow:hover:before {color: black;}#sk-container-id-2 div.sk-estimator:hover label.sk-toggleable__label-arrow:before {color: black;}#sk-container-id-2 div.sk-toggleable__content {max-height: 0;max-width: 0;overflow: hidden;text-align: left;background-color: #f0f8ff;}#sk-container-id-2 div.sk-toggleable__content pre {margin: 0.2em;color: black;border-radius: 0.25em;background-color: #f0f8ff;}#sk-container-id-2 input.sk-toggleable__control:checked~div.sk-toggleable__content {max-height: 200px;max-width: 100%;overflow: auto;}#sk-container-id-2 input.sk-toggleable__control:checked~label.sk-toggleable__label-arrow:before {content: \"▾\";}#sk-container-id-2 div.sk-estimator input.sk-toggleable__control:checked~label.sk-toggleable__label {background-color: #d4ebff;}#sk-container-id-2 div.sk-label input.sk-toggleable__control:checked~label.sk-toggleable__label {background-color: #d4ebff;}#sk-container-id-2 input.sk-hidden--visually {border: 0;clip: rect(1px 1px 1px 1px);clip: rect(1px, 1px, 1px, 1px);height: 1px;margin: -1px;overflow: hidden;padding: 0;position: absolute;width: 1px;}#sk-container-id-2 div.sk-estimator {font-family: monospace;background-color: #f0f8ff;border: 1px dotted black;border-radius: 0.25em;box-sizing: border-box;margin-bottom: 0.5em;}#sk-container-id-2 div.sk-estimator:hover {background-color: #d4ebff;}#sk-container-id-2 div.sk-parallel-item::after {content: \"\";width: 100%;border-bottom: 1px solid gray;flex-grow: 1;}#sk-container-id-2 div.sk-label:hover label.sk-toggleable__label {background-color: #d4ebff;}#sk-container-id-2 div.sk-serial::before {content: \"\";position: absolute;border-left: 1px solid gray;box-sizing: border-box;top: 0;bottom: 0;left: 50%;z-index: 0;}#sk-container-id-2 div.sk-serial {display: flex;flex-direction: column;align-items: center;background-color: white;padding-right: 0.2em;padding-left: 0.2em;position: relative;}#sk-container-id-2 div.sk-item {position: relative;z-index: 1;}#sk-container-id-2 div.sk-parallel {display: flex;align-items: stretch;justify-content: center;background-color: white;position: relative;}#sk-container-id-2 div.sk-item::before, #sk-container-id-2 div.sk-parallel-item::before {content: \"\";position: absolute;border-left: 1px solid gray;box-sizing: border-box;top: 0;bottom: 0;left: 50%;z-index: -1;}#sk-container-id-2 div.sk-parallel-item {display: flex;flex-direction: column;z-index: 1;position: relative;background-color: white;}#sk-container-id-2 div.sk-parallel-item:first-child::after {align-self: flex-end;width: 50%;}#sk-container-id-2 div.sk-parallel-item:last-child::after {align-self: flex-start;width: 50%;}#sk-container-id-2 div.sk-parallel-item:only-child::after {width: 0;}#sk-container-id-2 div.sk-dashed-wrapped {border: 1px dashed gray;margin: 0 0.4em 0.5em 0.4em;box-sizing: border-box;padding-bottom: 0.4em;background-color: white;}#sk-container-id-2 div.sk-label label {font-family: monospace;font-weight: bold;display: inline-block;line-height: 1.2em;}#sk-container-id-2 div.sk-label-container {text-align: center;}#sk-container-id-2 div.sk-container {/* jupyter's `normalize.less` sets `[hidden] { display: none; }` but bootstrap.min.css set `[hidden] { display: none !important; }` so we also need the `!important` here to be able to override the default hidden behavior on the sphinx rendered scikit-learn.org. See: https://github.com/scikit-learn/scikit-learn/issues/21755 */display: inline-block !important;position: relative;}#sk-container-id-2 div.sk-text-repr-fallback {display: none;}</style><div id=\"sk-container-id-2\" class=\"sk-top-container\"><div class=\"sk-text-repr-fallback\"><pre>GradientBoostingClassifier(max_depth=1)</pre><b>In a Jupyter environment, please rerun this cell to show the HTML representation or trust the notebook. <br />On GitHub, the HTML representation is unable to render, please try loading this page with nbviewer.org.</b></div><div class=\"sk-container\" hidden><div class=\"sk-item\"><div class=\"sk-estimator sk-toggleable\"><input class=\"sk-toggleable__control sk-hidden--visually\" id=\"sk-estimator-id-2\" type=\"checkbox\" checked><label for=\"sk-estimator-id-2\" class=\"sk-toggleable__label sk-toggleable__label-arrow\">GradientBoostingClassifier</label><div class=\"sk-toggleable__content\"><pre>GradientBoostingClassifier(max_depth=1)</pre></div></div></div></div></div>"
      ],
      "text/plain": [
       "GradientBoostingClassifier(max_depth=1)"
      ]
     },
     "execution_count": 144,
     "metadata": {},
     "output_type": "execute_result"
    }
   ],
   "source": [
    "clf = GradientBoostingClassifier(max_depth=1)\n",
    "clf.fit(X_mod_train,y_mod_train)"
   ]
  },
  {
   "cell_type": "code",
   "execution_count": 145,
   "metadata": {},
   "outputs": [],
   "source": [
    "X_mod_test=vector.transform(X_test)\n",
    "y_mod_test=encoder.transform(y_test)\n",
    "\n",
    "y_pred = clf.predict(X_mod_test)"
   ]
  },
  {
   "cell_type": "code",
   "execution_count": 146,
   "metadata": {},
   "outputs": [
    {
     "name": "stdout",
     "output_type": "stream",
     "text": [
      "                           precision    recall  f1-score   support\n",
      "\n",
      "                 Advocate       1.00      1.00      1.00        10\n",
      "                     Arts       1.00      1.00      1.00        18\n",
      "       Automation Testing       1.00      1.00      1.00        13\n",
      "               Blockchain       1.00      1.00      1.00        20\n",
      "         Business Analyst       1.00      1.00      1.00        14\n",
      "           Civil Engineer       1.00      1.00      1.00        12\n",
      "             Data Science       1.00      1.00      1.00        20\n",
      "                 Database       1.00      1.00      1.00        17\n",
      "          DevOps Engineer       1.00      1.00      1.00        20\n",
      "         DotNet Developer       1.00      1.00      1.00        14\n",
      "            ETL Developer       1.00      1.00      1.00        20\n",
      "   Electrical Engineering       1.00      1.00      1.00        15\n",
      "                       HR       1.00      1.00      1.00        20\n",
      "                   Hadoop       1.00      1.00      1.00        20\n",
      "       Health and fitness       1.00      1.00      1.00        15\n",
      "           Java Developer       1.00      1.00      1.00        21\n",
      "      Mechanical Engineer       1.00      1.00      1.00        20\n",
      "Network Security Engineer       1.00      1.00      1.00        12\n",
      "       Operations Manager       1.00      1.00      1.00        20\n",
      "                      PMO       1.00      1.00      1.00        15\n",
      "         Python Developer       1.00      1.00      1.00        20\n",
      "            SAP Developer       1.00      1.00      1.00        12\n",
      "                    Sales       1.00      1.00      1.00        20\n",
      "                  Testing       1.00      1.00      1.00        20\n",
      "            Web Designing       1.00      1.00      1.00        20\n",
      "\n",
      "                 accuracy                           1.00       428\n",
      "                macro avg       1.00      1.00      1.00       428\n",
      "             weighted avg       1.00      1.00      1.00       428\n",
      "\n"
     ]
    }
   ],
   "source": [
    "print(classification_report(y_mod_test,y_pred,target_names=encoder.classes_)) # Insanely PERFECT!"
   ]
  },
  {
   "cell_type": "code",
   "execution_count": 152,
   "metadata": {},
   "outputs": [
    {
     "name": "stdout",
     "output_type": "stream",
     "text": [
      "raw_resume_1 role prediction: Data Science\n",
      "raw_resume_2 role prediction: Python Developer\n"
     ]
    }
   ],
   "source": [
    "raw_resume_1 = '''Hello there, my name is <name>. I am interested in this position, having had\n",
    "significant experience in Python programming and SQL. I am also extremely familiar with Microsoft Excel and PowerBI.\n",
    "I am currently an undergraduate of the National University of Singapore in Data Science and Analysis. \n",
    "\n",
    "I have\n",
    "had prior experience in programming for 3 years and am familiar with most machine-learning models, ranging from\n",
    "Logistic Regression Algorithms to Gradient Boosting Algorithms to Kmeans and Apriori algorithms. I have also had past experience\n",
    "in working on a company's project related to Data Analysis'''\n",
    "\n",
    "raw_resume_2 = '''Hello there, my name is <name>. I am interested in this position, having had\n",
    "significant experience in Python programming for nearly 3 years. \n",
    "\n",
    "I am also extremely \n",
    "familiar with other programming languages\n",
    "such as JavaScript and SQL, and am currently an undergraduate of the National University of Singapore in Data Science and Analytics.\n",
    "I have coded my own personal projects in Python, ranging from Telegram Bots for ticketing systems to Image recognition software for \n",
    "outlining objects. While not having had any prior experience in a company positon, I believe that with my fervent desire in Python and \n",
    "the skills I have acquired over the years, I will be able to play a deep role in the positin offered.'''\n",
    "\n",
    "def resume_predictor(raw_resume):\n",
    "    resume_processed = ' '.join(re.findall('[a-zA-Z0-9]+',raw_resume)).lower()\n",
    "    vec=vector.transform([resume_processed])\n",
    "    return encoder.classes_[clf.predict(vec)[0]]\n",
    "\n",
    "print('raw_resume_1 role prediction:',resume_predictor(raw_resume_1))\n",
    "print('raw_resume_2 role prediction:',resume_predictor(raw_resume_2)) \n",
    "# NICE > especially considering relative similarity of resumes in terms of syntax structure and all"
   ]
  },
  {
   "cell_type": "code",
   "execution_count": 148,
   "metadata": {},
   "outputs": [],
   "source": [
    "# can even be tested out on files (word documents > .docx)\n",
    "def resume_file_pred(file):\n",
    "    text = textract.process(rf\"{file}\")\n",
    "    return resume_predictor(text.decode(\"utf-8\"))\n",
    "\n",
    "# could prove useful in finetuning a resume to also fit a specific role (possibly)\n",
    "\n",
    "# usefulness could be in analysing job resumes; \n",
    "# perhaps check if a person is suitable for the role he/she applied to\n",
    "# or to even redirect person to another applicable role\n",
    "# where his/her talents are more suitable"
   ]
  }
 ],
 "metadata": {
  "kernelspec": {
   "display_name": "Python 3",
   "language": "python",
   "name": "python3"
  },
  "language_info": {
   "codemirror_mode": {
    "name": "ipython",
    "version": 3
   },
   "file_extension": ".py",
   "mimetype": "text/x-python",
   "name": "python",
   "nbconvert_exporter": "python",
   "pygments_lexer": "ipython3",
   "version": "3.11.4"
  },
  "orig_nbformat": 4
 },
 "nbformat": 4,
 "nbformat_minor": 2
}
