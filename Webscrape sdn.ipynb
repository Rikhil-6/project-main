{
 "cells": [
  {
   "cell_type": "code",
   "execution_count": null,
   "metadata": {},
   "outputs": [],
   "source": [
    "#Created 2023-01-09 @ 1900 Hrs\n",
    "#Final Product at 2023-01-12 @ 1020 Hrs\n",
    "#Updated (V2) for scraping single pages on 2023-01-32 @ 2140 Hrs\n",
    "\n",
    "###packages used###\n",
    "\n",
    "import requests  #pip install requests\n",
    "from bs4 import BeautifulSoup #pip install bs4\n",
    "import re\n",
    "import pandas as pd #pip install pandas\n",
    "import openpyxl #pip install openpyxl\n",
    "\n",
    "import xlwings as xw #pip install xlwings\n",
    "\n",
    "from selenium import webdriver #pip install selenium\n",
    "from selenium.webdriver.chrome.service import Service\n",
    "from webdriver_manager.chrome import ChromeDriverManager #pip install web-driver\n",
    "from selenium.webdriver.common.by import By\n"
   ]
  },
  {
   "cell_type": "code",
   "execution_count": null,
   "metadata": {},
   "outputs": [],
   "source": [
    "start_url='https://www.sdn.sg/forindividuals/Pages/Dating-Events-Month.aspx' \n",
    "# the url used for reference >> one indicating dating events hosted in the current year\n",
    "start_sheet=requests.get(start_url) "
   ]
  },
  {
   "cell_type": "code",
   "execution_count": null,
   "metadata": {},
   "outputs": [],
   "source": [
    "driver=webdriver.Chrome(ChromeDriverManager().install())\n"
   ]
  },
  {
   "cell_type": "code",
   "execution_count": null,
   "metadata": {},
   "outputs": [],
   "source": [
    "def get_data(content): # function specific to the url above; used to extract certain information form the html content of the url\n",
    "    soup=BeautifulSoup(content, 'html.parser')\n",
    "    info=soup.find_all(class_=\"event_cal_height1\") # information can be found under this class in the url\n",
    "\n",
    "    df=pd.DataFrame(columns=['Date','Event','Agency','Cost','Time','Venue','Details']) # creates empty dataframe\n",
    "\n",
    "    for i in info:\n",
    "        url=re.findall('<a href=\"(\\S*)\">',str(i.contents)) # uses regex to pull out relevant info\n",
    "        details=('https://www.sdn.sg'+url[0]) # full url for further info on event (useful due to unique event id it possesses)\n",
    "        extract=[x for x in re.findall('\\S*',str(i.text)) if x!='']\n",
    "        date=(' '.join(extract[:2])) # pulls out the date (in format of mon, day)\n",
    "        name=(' '.join(extract[2:extract.index('Agency')-1])) # pulls out name of event\n",
    "        agency=(' '.join(extract[extract.index('Agency')+2:extract.index('Cost')])) # pulls out agency hosting the event\n",
    "        cost=float(' '.join(extract[extract.index('Cost')+3:extract.index('Time')])) # pulls out the cost of the event (digits only)\n",
    "        time=(' '.join(extract[extract.index('Time')+2:extract.index('Venue')])) # pulls time of the event (from what time to what time)\n",
    "        venue=(' '.join(extract[extract.index('Venue')+2:])) # pulls out location of event\n",
    "        df.loc[len(df)]=[date,name,agency,cost,time,venue,details] # stores all that info in the df\n",
    "\n",
    "        df=df.iloc[::-1] # reverses order of dataframe (so that recent entries are stored on top)\n",
    "        df.index=range(0,len(df)) # ensures that index of df is continuous\n",
    "    return df\n"
   ]
  },
  {
   "cell_type": "code",
   "execution_count": null,
   "metadata": {},
   "outputs": [],
   "source": [
    "driver.get(start_url)\n",
    "curr_page_source=driver.page_source\n",
    "og=pd.DataFrame(columns=['Date','Event','Agency','Cost','Time','Venue','Details'])\n",
    "\n",
    "soup=BeautifulSoup(driver.page_source, 'html.parser')\n"
   ]
  },
  {
   "cell_type": "code",
   "execution_count": null,
   "metadata": {},
   "outputs": [],
   "source": [
    "\n",
    "parent=soup.find('div',{'class':'pageLink'}) # search for pagination\n",
    "children= parent.findChildren('a',recursive=False)\n",
    "\n",
    "upper=soup.find('div',{'class':'eventmonth'})# search for month\n",
    "\n",
    "\n",
    "for e in upper.find_all(class_='button'):\n",
    "\n",
    "    id=(re.findall('id=\"(.*)\" style',str(e)))[0]\n",
    "    driver.find_element(By.ID,id).click() # finds and clicks each page button on the link (necessary as url is hyperlinked)\n",
    "    # diff \n",
    "    mon=pd.DataFrame(columns=['Date','Event','Agency','Cost','Time','Venue','Details'])\n",
    "    if get_data(driver.page_source).empty:\n",
    "        print('Done')\n",
    "        break \n",
    "    else:\n",
    "        i=0\n",
    "        while True:\n",
    "            try:\n",
    "                driver.find_element(By.LINK_TEXT,(str(i+1))).click() \n",
    "                i+=1\n",
    "            except:\n",
    "                curr_page_source=driver.page_source\n",
    "                if (get_data(curr_page_source).empty):\n",
    "                    break\n",
    "\n",
    "                else:\n",
    "                    n=get_data(curr_page_source)\n",
    "                    mon=pd.concat([mon,n],axis=0)\n",
    "                    break\n",
    "            else:\n",
    "                curr_page_source=driver.page_source\n",
    "                if (get_data(curr_page_source).empty):\n",
    "                    break \n",
    "                else:\n",
    "                    n=get_data(curr_page_source)\n",
    "                    mon=pd.concat([mon,n],axis=0)\n",
    "        mon=mon.sort_values('Date',ascending=False) \n",
    "    og=pd.concat([mon,og],axis=0)\n"
   ]
  },
  {
   "cell_type": "code",
   "execution_count": null,
   "metadata": {},
   "outputs": [],
   "source": [
    "og.index=(list(range(1,len(og)+1)))"
   ]
  },
  {
   "cell_type": "code",
   "execution_count": null,
   "metadata": {},
   "outputs": [],
   "source": [
    "excel_file=r\"C:\\Users\\acer\\OneDrive\\Desktop\\Results.xlsx\" # Dependent on location and all; to create excel sheet beforehand on personal computer\n",
    "xcel=pd.read_excel(excel_file)  \n",
    "wb=openpyxl.load_workbook(excel_file,data_only=True)\n",
    "ws=wb['Sheet1']\n",
    "clr=openpyxl.styles.PatternFill(fill_type=None)\n",
    "\n",
    "for row in ws[\"A1\":\"H2000\"]:\n",
    "    for cell in row:\n",
    "        cell.fill = clr\n",
    "\n",
    "wb.save(filename=excel_file)\n",
    "\n",
    "rows=[]\n",
    "for i,det in enumerate(og['Details']): # compares new entries based on details (owing to unique event id present in each url)\n",
    " if det not in list(xcel['Details']): # thus; even if event is added on a previous date; will still appear\n",
    "    i+=2\n",
    "    rows.append(str(i))"
   ]
  },
  {
   "cell_type": "code",
   "execution_count": null,
   "metadata": {},
   "outputs": [],
   "source": [
    "toxl=og\n",
    "toxl.to_excel(excel_file)\n",
    "wbx = xw.Book(excel_file)\n",
    "for e in rows:\n",
    "    wbx.sheets['Sheet1'].range(f'A{e}:H{e}').color = (255,234,0)\n",
    "wbx.save(excel_file)\n",
    "wbx.close()"
   ]
  },
  {
   "cell_type": "code",
   "execution_count": null,
   "metadata": {},
   "outputs": [],
   "source": []
  }
 ],
 "metadata": {
  "kernelspec": {
   "display_name": "Python 3",
   "language": "python",
   "name": "python3"
  },
  "language_info": {
   "codemirror_mode": {
    "name": "ipython",
    "version": 3
   },
   "file_extension": ".py",
   "mimetype": "text/x-python",
   "name": "python",
   "nbconvert_exporter": "python",
   "pygments_lexer": "ipython3",
   "version": "3.9.1"
  },
  "orig_nbformat": 4,
  "vscode": {
   "interpreter": {
    "hash": "8f5816e6188795d1cc8afa4306b69c5e3a103f064a75e820fe776234e4cf83e8"
   }
  }
 },
 "nbformat": 4,
 "nbformat_minor": 2
}
