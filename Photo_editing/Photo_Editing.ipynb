{
 "cells": [
  {
   "cell_type": "markdown",
   "metadata": {},
   "source": [
    "## **Code's Purpose**\n",
    "\n",
    "This code was written simply as a fun project -> a thought experiment of analysing what\n",
    "would happen if thresholding and mapping was recursively applied on the pixel data of images.\n",
    "\n",
    "It works by essentially splitting the range 0 - 255 (0 - 256 exluding the upper limit) into\n",
    "bounded segments whereby they will be mapped to one number or another depending on which numbers they\n",
    "are smaller/greater than. This is really best illustrated through running the code and analysing both \n",
    "the direct code output as well as the images produced.\n",
    "\n",
    "While initially thought to be nothing special, through experimentation with the manner of splitting the \n",
    "segments (through the use of fractional components), as well as the number of recursions; I witness\n",
    "that this simple algorithm can result in images of varying natures to be created. These images can \n",
    "be 'artsy' / nostalgic / terrifying and more! Such a filter could also have possible steganographic \n",
    "implications and be used to hide/reveal information hidden in images or even just to enhance images to \n",
    "a specific nature.\n"
   ]
  },
  {
   "cell_type": "markdown",
   "metadata": {},
   "source": [
    "## **Comparison of Images**\n",
    "\n",
    "Original Flatiron Building Photo - https://i.pinimg.com/736x/86/1c/67/861c67c9ac9287137ef79f04b72e8f0d--the-flatiron-flatiron-building.jpg\n",
    "\n",
    "**Altered Picture - loops = 2, frac_bound = 0.8**\n",
    "\n",
    "![Altered Flatiron Photo](flatiron_altered_2_0.8.jpg \"Altered, Artsy Image\")\n",
    "\n",
    "*More like a painting, with rosy clouds and a greater contrast of light and shadow.*\n",
    "\n",
    "------------------------------------------------------------------\n",
    "\n",
    "Original Face Picture - https://t3.ftcdn.net/jpg/06/53/03/80/360_F_653038009_MUnQU4ccQboqO5iitQUy1XTgpl2m05O4.jpg\n",
    "\n",
    "**Altered Picture - loops = 1, frac_bound = 0.6**\n",
    "\n",
    "![Altered Face Pic](face_altered_1_0.6.jpg \"Altered, Creepier Image\")\n",
    "\n",
    "*More like an old image - akin to that of analog horror; with an odd shape (with eyes?) above **(her)** right shoulder.* \n",
    "\n",
    "*Applicable for steganographic purposed (hiding words/shapes in images that can only be shown via such methods).*"
   ]
  },
  {
   "cell_type": "code",
   "execution_count": null,
   "metadata": {},
   "outputs": [],
   "source": [
    "# Necessary Packages for use\n",
    "import numpy as np \n",
    "import cv2 \n",
    "from pathlib import Path\n",
    "import os\n",
    "from fractions import Fraction\n",
    "from decimal import Decimal"
   ]
  },
  {
   "cell_type": "code",
   "execution_count": null,
   "metadata": {},
   "outputs": [],
   "source": [
    "## 4 main variables for user to amend in descending order of priority\n",
    "\n",
    "img_path = None # image path to work on\n",
    "loops = 2 # Positive Integers from 0 to 5 (following which there is no real impact on the splits)\n",
    "frac_bound = 0.5 # decimal between 0 and 1 (non-inclusive of endpoints)\n",
    "dim_limit = 600 # limit of width/height (if image has height/width greater than this, will be resized to preserve og ratio of image)\n",
    "# dim_limit can be increased, tho this size is recommended and deemed suitable enough for most images\n",
    "\n",
    "assert os.path.exists(img_path) # checks if path exists, if not --> change address and prevents rest of code from running"
   ]
  },
  {
   "cell_type": "code",
   "execution_count": null,
   "metadata": {},
   "outputs": [],
   "source": [
    "def recurse(lower,upper,loops = 0, thresh = 0.5): # algorithm that creates the bounds\n",
    "    if thresh>=1 or thresh<=0:\n",
    "        raise ValueError(\"Split must be a positive value between 0 and 1 non-inclusive\")\n",
    "    if loops<=0:\n",
    "        return lower,upper \n",
    "    else:\n",
    "        fraction = Fraction(Decimal(str(thresh)))\n",
    "        num,denom = fraction.numerator, fraction.denominator\n",
    "        mid = (upper * num + lower * (denom - num))//denom\n",
    "        return (recurse(lower,mid,loops-1),recurse(mid,upper,loops-1))\n",
    "    \n",
    "t = recurse(0,256,loops, frac_bound)\n",
    "arr = list(np.array(t).flatten())\n",
    "bounds = [(arr[i]+arr[i+1])//2 for i in range(0,len(arr),2)]\n",
    "\n",
    "\n",
    "img = cv2.imread(img_path)\n",
    "lower = 0 \n",
    "h,w,c = img.shape \n",
    "\n",
    "if h>dim_limit or w>dim_limit: # code that resized the image accordingly\n",
    "    if h>w:\n",
    "        ratio = round((h/dim_limit),1) \n",
    "        h,w = int(h/ratio),int(w/ratio)\n",
    "    else:\n",
    "        ratio = round((w/dim_limit),1) \n",
    "        h,w = int(h/ratio),int(w/ratio)\n",
    "img = cv2.resize(img,(w,h))\n",
    "og_shape = img.shape\n",
    "print(bounds)"
   ]
  },
  {
   "cell_type": "code",
   "execution_count": null,
   "metadata": {},
   "outputs": [],
   "source": [
    "arr = list() # code responsible for mapping pixel values to specific boundaries\n",
    "for i in img.flatten():\n",
    "    for j,k in enumerate(bounds):\n",
    "        if i<=k and j==0:\n",
    "            arr.append(0)\n",
    "            break\n",
    "        elif i<=k and j!=0:\n",
    "            arr.append(bounds[j-1])\n",
    "            break\n",
    "        elif i>=k and j==len(bounds)-1:\n",
    "            arr.append(bounds[j])\n",
    "            break\n",
    "\n",
    "new_img = (np.array(arr)).reshape(og_shape)\n",
    "new_img = new_img.astype(np.uint8)"
   ]
  },
  {
   "cell_type": "code",
   "execution_count": null,
   "metadata": {},
   "outputs": [],
   "source": [
    "filename = Path(img_path).stem\n",
    "_,ext = os.path.splitext(img_path)\n",
    "cv2.imwrite(f\"{filename}_altered_{loops}_{frac_bound}{ext}\",new_img) # created image is saved in current directory"
   ]
  },
  {
   "cell_type": "code",
   "execution_count": null,
   "metadata": {},
   "outputs": [],
   "source": [
    "cv2.imshow('New Image',new_img) # image is displayed for the viewer\n",
    "cv2.waitKey(0)\n",
    "cv2.destroyAllWindows()"
   ]
  }
 ],
 "metadata": {
  "kernelspec": {
   "display_name": "Python 3",
   "language": "python",
   "name": "python3"
  },
  "language_info": {
   "codemirror_mode": {
    "name": "ipython",
    "version": 3
   },
   "file_extension": ".py",
   "mimetype": "text/x-python",
   "name": "python",
   "nbconvert_exporter": "python",
   "pygments_lexer": "ipython3",
   "version": "3.11.4"
  }
 },
 "nbformat": 4,
 "nbformat_minor": 2
}
