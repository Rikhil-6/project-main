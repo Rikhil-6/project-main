{
 "cells": [
  {
   "cell_type": "code",
   "execution_count": null,
   "metadata": {},
   "outputs": [],
   "source": [
    "# modules required; if not present; pip install\n",
    "import pandas as pd\n",
    "from calendar import monthrange\n",
    "from selenium import webdriver\n",
    "from selenium.webdriver.common.by import By \n",
    "import time\n",
    "import re"
   ]
  },
  {
   "cell_type": "code",
   "execution_count": null,
   "metadata": {},
   "outputs": [],
   "source": [
    "###Info which can be modified\n",
    "year=2023 # selected year (can change)\n",
    "start_mth=2 # where number refers to the month of the year; 1st mth being January; 12th month being DecembeR (any integer from 1-12 (inclusive))\n",
    "end_mth=12 #(any integer greater than/ equal to the start_mth (cannot be more than 12))\n",
    "budget=500 # Max cost of flight from SG to destination (2 way) (any realistic integer)\n",
    "# can't really expect much results for $1 flight trips can you\n",
    "###\n",
    "\n",
    "base_url='https://www.kayak.sg/explore/SIN-anywhere/' # the base url used to check available destinations from SG\n",
    "\n",
    "month=[]\n",
    "all_costs=[]\n",
    "all_places=[]\n",
    "\n",
    "for m in range(start_mth,end_mth+1):\n",
    "    last_day=str(monthrange(year, m)[-1])\n",
    "    m=str(m)\n",
    "    if len(m)==1:\n",
    "        m='0'+m # where if month has only 1 digit; like for Aug (8); '0' is added In front of the character >> '08' \n",
    "        # (allows url to be valid and therefore can be scraped)\n",
    "    \n",
    "    start_yyyymmdd= f'2023{m}01'\n",
    "    end_yyyymmdd=f'2023{m}{last_day}'\n",
    "    search=f'{base_url}{start_yyyymmdd},{end_yyyymmdd}?budget={str(budget)}' #url with modifiers* is stringed together and assigned to variable\n",
    "    # * >> includes modifiers into base url to show interested duration and budget\n",
    "    # e.g. https://www.kayak.sg/explore/SIN-anywhere/20230301,20230331?budget=1000\n",
    "    #   where all available destinations for the duration of the full month of January are searched\n",
    "    #   and where the max flight cost for 2 way (SG to overseas airport) is 1000 SGD\n",
    "    #   data is specific to kayaK\n",
    "    \n",
    "    dr=webdriver.Chrome() # selenium is used so as to allow for elements to be identified based on id/ className etc\n",
    "    # as opposed to using bs4 \n",
    "    dr.get(search)\n",
    "    time.sleep(10) # allows webpage to load before scraping (10 seconds is a bit generous but time isn't that large of an issue personally)\n",
    "    costs=(dr.find_elements(by=By.CLASS_NAME, value=\"Blek-title\"))\n",
    "    pattern='>(.*)<'\n",
    "\n",
    "    zoom_out=dr.find_element(by=By.XPATH, value=\"//*[contains(@id,'minusButton')]\")\n",
    "\n",
    "    for e in range(0,4): # replicates this 4 times\n",
    "        zoom_out.click() # zooms out on the map as to allow for a global overview on all possible destinations\n",
    "        # if not done; will limit destinations to SEA only (aka what's shown on the map w/o zooming out)\n",
    "        # zooming out on map also influences destinations sHown in the 'Explore Destinations' section of the page\n",
    "        time.sleep(3) # allows webpage to load as some dynamic content may not be displayed immediately\n",
    "\n",
    "    time.sleep(4) # allows webpage to load 1 final time for some dynamic content to be displayed\n",
    "    button=dr.find_element(by=By.XPATH, value=\"//*[contains(@id,'showMoreButton')]\") # selects the 'Load More Destinations' button \n",
    "    while True:\n",
    "        try:\n",
    "            button.click() \n",
    "            time.sleep(5) # code to click the load more destinations button as long as It is present; if no more destinations\n",
    "        except: # except code is triggered (as button cannot be clicked; hence while loop is broken out of)\n",
    "            break \n",
    "    # with all possible destinations loaded\n",
    "    elements=(dr.find_elements(by=By.CLASS_NAME, value=\"_ihz._irp._iqB._ilc._iai\"))\n",
    "    for i in elements:\n",
    "        e=(i.get_attribute('innerHTML'))\n",
    "        if ';' not in e: # in htmL ';' is an indicator that the 'from S$ (cost)' tag is present the destination\n",
    "            # necessary as some destinations do not have that tag (indicative that exceeds budget)\n",
    "            # so only data with 'from S$ (cost)' tag is scraped; with name of place and cost being scraped\n",
    "            break\n",
    "        else:\n",
    "            place,cost=re.findall(pattern,e)\n",
    "            cost=(cost.split(';')[-1])\n",
    "            all_places.append(place) # adds place to list\n",
    "            all_costs.append(cost) # adds cost of gg to place to a separate list\n",
    "            month.append(m) # adds month of travel to a different list\n"
   ]
  },
  {
   "cell_type": "code",
   "execution_count": null,
   "metadata": {},
   "outputs": [],
   "source": [
    "month_year=[]\n",
    "for m in month:\n",
    "    month_year.append(m+'/'+str(year)) # from 02 to 02/2023 (based on existing year)\n",
    "\n",
    "all_costs=[int(i) for i in all_costs] # converts type of value in all_costs list from string to integer\n",
    "# values in HTML (being text) exist as strings\n",
    "\n",
    "df=pd.DataFrame({'month':month_year,'place':all_places,'cost':all_costs}) # creates the dataframe\n",
    "\n",
    "df.index=range(1,len(df)+1) # makes the start index 1 (instead of 0) > for better readability and to easily show number of locations scraped\n",
    "\n",
    "df.to_excel(r'C:\\Users\\acer\\OneDrive\\Desktop'+r'\\locations.xlsx') \n",
    "# exports df to excel sheet on desktop (will need to be modified based on computer)\n",
    "\n",
    "#Exported Data can be Visualised in PowerBI using ArcGIS"
   ]
  }
 ],
 "metadata": {
  "kernelspec": {
   "display_name": "Python 3",
   "language": "python",
   "name": "python3"
  },
  "language_info": {
   "codemirror_mode": {
    "name": "ipython",
    "version": 3
   },
   "file_extension": ".py",
   "mimetype": "text/x-python",
   "name": "python",
   "nbconvert_exporter": "python",
   "pygments_lexer": "ipython3",
   "version": "3.9.1 (tags/v3.9.1:1e5d33e, Dec  7 2020, 17:08:21) [MSC v.1927 64 bit (AMD64)]"
  },
  "orig_nbformat": 4,
  "vscode": {
   "interpreter": {
    "hash": "8f5816e6188795d1cc8afa4306b69c5e3a103f064a75e820fe776234e4cf83e8"
   }
  }
 },
 "nbformat": 4,
 "nbformat_minor": 2
}
