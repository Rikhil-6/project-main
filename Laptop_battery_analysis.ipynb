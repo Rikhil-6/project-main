{
 "cells": [
  {
   "cell_type": "code",
   "execution_count": 159,
   "metadata": {},
   "outputs": [],
   "source": [
    "# Analysis of my laptop's battery life over approx 3.7 years of usage (so far)\n",
    "# Windows laptop\n",
    "# Report accessed by using administrator cmd prompt\n",
    "# Typed in terminal powercfg/batteryreport\n",
    "\n",
    "import pandas as pd\n",
    "import datetime as dt"
   ]
  },
  {
   "cell_type": "code",
   "execution_count": 161,
   "metadata": {},
   "outputs": [],
   "source": [
    "data=pd.read_html(r\"C:/Windows/System32/battery-report.html\") # pulls out data from suitable sources in the html page\n",
    "# because more than 1 source is available, result is a list"
   ]
  },
  {
   "cell_type": "code",
   "execution_count": 162,
   "metadata": {},
   "outputs": [
    {
     "name": "stdout",
     "output_type": "stream",
     "text": [
      "Type of variable data=<class 'list'>\n",
      "Length: 8\n"
     ]
    }
   ],
   "source": [
    "print(f'Type of variable data={type(data)}')\n",
    "print(f'Length: {len(data)}')\n",
    "\n",
    "df1=data[5] # these are the data i'm interested in, may vary from report to report and person to person for sure\n",
    "df2=data[6] # simply iterate over dataframes in list to see what is interesting"
   ]
  },
  {
   "cell_type": "code",
   "execution_count": 163,
   "metadata": {},
   "outputs": [
    {
     "name": "stdout",
     "output_type": "stream",
     "text": [
      "<class 'pandas.core.frame.DataFrame'>\n",
      "RangeIndex: 197 entries, 0 to 196\n",
      "Data columns (total 3 columns):\n",
      " #   Column                Non-Null Count  Dtype \n",
      "---  ------                --------------  ----- \n",
      " 0   PERIOD                197 non-null    object\n",
      " 1   FULL CHARGE CAPACITY  197 non-null    object\n",
      " 2   DESIGN CAPACITY       197 non-null    object\n",
      "dtypes: object(3)\n",
      "memory usage: 4.7+ KB\n",
      "None\n"
     ]
    },
    {
     "data": {
      "text/html": [
       "<div>\n",
       "<style scoped>\n",
       "    .dataframe tbody tr th:only-of-type {\n",
       "        vertical-align: middle;\n",
       "    }\n",
       "\n",
       "    .dataframe tbody tr th {\n",
       "        vertical-align: top;\n",
       "    }\n",
       "\n",
       "    .dataframe thead th {\n",
       "        text-align: right;\n",
       "    }\n",
       "</style>\n",
       "<table border=\"1\" class=\"dataframe\">\n",
       "  <thead>\n",
       "    <tr style=\"text-align: right;\">\n",
       "      <th></th>\n",
       "      <th>Period</th>\n",
       "      <th>Full_charge_cap</th>\n",
       "      <th>Design_cap</th>\n",
       "    </tr>\n",
       "  </thead>\n",
       "  <tbody>\n",
       "    <tr>\n",
       "      <th>0</th>\n",
       "      <td>2019-10-28  - 2019-11-04</td>\n",
       "      <td>60,142 mWh</td>\n",
       "      <td>61,908 mWh</td>\n",
       "    </tr>\n",
       "    <tr>\n",
       "      <th>1</th>\n",
       "      <td>2019-11-04  - 2019-11-12</td>\n",
       "      <td>60,411 mWh</td>\n",
       "      <td>61,908 mWh</td>\n",
       "    </tr>\n",
       "    <tr>\n",
       "      <th>2</th>\n",
       "      <td>2019-11-12  - 2019-11-18</td>\n",
       "      <td>59,917 mWh</td>\n",
       "      <td>61,908 mWh</td>\n",
       "    </tr>\n",
       "    <tr>\n",
       "      <th>3</th>\n",
       "      <td>2019-11-18  - 2019-11-25</td>\n",
       "      <td>61,053 mWh</td>\n",
       "      <td>61,908 mWh</td>\n",
       "    </tr>\n",
       "    <tr>\n",
       "      <th>4</th>\n",
       "      <td>2019-11-25  - 2019-12-09</td>\n",
       "      <td>61,053 mWh</td>\n",
       "      <td>61,908 mWh</td>\n",
       "    </tr>\n",
       "  </tbody>\n",
       "</table>\n",
       "</div>"
      ],
      "text/plain": [
       "                     Period Full_charge_cap  Design_cap\n",
       "0  2019-10-28  - 2019-11-04      60,142 mWh  61,908 mWh\n",
       "1  2019-11-04  - 2019-11-12      60,411 mWh  61,908 mWh\n",
       "2  2019-11-12  - 2019-11-18      59,917 mWh  61,908 mWh\n",
       "3  2019-11-18  - 2019-11-25      61,053 mWh  61,908 mWh\n",
       "4  2019-11-25  - 2019-12-09      61,053 mWh  61,908 mWh"
      ]
     },
     "execution_count": 163,
     "metadata": {},
     "output_type": "execute_result"
    }
   ],
   "source": [
    "print(df1.info()) # column names are oookay, best to rename w underscores replacing spaces; throw in lowercase as well (personal pref)\n",
    "df1.columns = ['Period','Full_charge_cap','Design_cap']\n",
    "df1.head()\n",
    "# none of the columns have empty/missing data"
   ]
  },
  {
   "cell_type": "code",
   "execution_count": 164,
   "metadata": {},
   "outputs": [
    {
     "name": "stdout",
     "output_type": "stream",
     "text": [
      "<class 'pandas.core.frame.DataFrame'>\n",
      "RangeIndex: 197 entries, 0 to 196\n",
      "Data columns (total 6 columns):\n",
      " #   Column                                    Non-Null Count  Dtype  \n",
      "---  ------                                    --------------  -----  \n",
      " 0   (Unnamed: 0_level_0, PERIOD)              197 non-null    object \n",
      " 1   (AT FULL CHARGE, ACTIVE)                  197 non-null    object \n",
      " 2   (AT FULL CHARGE, CONNECTED STANDBY)       197 non-null    object \n",
      " 3   (Unnamed: 3_level_0, Unnamed: 3_level_1)  0 non-null      float64\n",
      " 4   (AT DESIGN CAPACITY, ACTIVE)              197 non-null    object \n",
      " 5   (AT DESIGN CAPACITY, CONNECTED STANDBY)   197 non-null    object \n",
      "dtypes: float64(1), object(5)\n",
      "memory usage: 9.4+ KB\n",
      "None\n"
     ]
    },
    {
     "data": {
      "text/html": [
       "<div>\n",
       "<style scoped>\n",
       "    .dataframe tbody tr th:only-of-type {\n",
       "        vertical-align: middle;\n",
       "    }\n",
       "\n",
       "    .dataframe tbody tr th {\n",
       "        vertical-align: top;\n",
       "    }\n",
       "\n",
       "    .dataframe thead tr th {\n",
       "        text-align: left;\n",
       "    }\n",
       "</style>\n",
       "<table border=\"1\" class=\"dataframe\">\n",
       "  <thead>\n",
       "    <tr>\n",
       "      <th></th>\n",
       "      <th>Unnamed: 0_level_0</th>\n",
       "      <th colspan=\"2\" halign=\"left\">AT FULL CHARGE</th>\n",
       "      <th>Unnamed: 3_level_0</th>\n",
       "      <th colspan=\"2\" halign=\"left\">AT DESIGN CAPACITY</th>\n",
       "    </tr>\n",
       "    <tr>\n",
       "      <th></th>\n",
       "      <th>PERIOD</th>\n",
       "      <th>ACTIVE</th>\n",
       "      <th>CONNECTED STANDBY</th>\n",
       "      <th>Unnamed: 3_level_1</th>\n",
       "      <th>ACTIVE</th>\n",
       "      <th>CONNECTED STANDBY</th>\n",
       "    </tr>\n",
       "  </thead>\n",
       "  <tbody>\n",
       "    <tr>\n",
       "      <th>0</th>\n",
       "      <td>2019-10-28  - 2019-11-04</td>\n",
       "      <td>7:32:44</td>\n",
       "      <td>-</td>\n",
       "      <td>NaN</td>\n",
       "      <td>7:46:02</td>\n",
       "      <td>-</td>\n",
       "    </tr>\n",
       "    <tr>\n",
       "      <th>1</th>\n",
       "      <td>2019-11-04  - 2019-11-12</td>\n",
       "      <td>8:19:35</td>\n",
       "      <td>-</td>\n",
       "      <td>NaN</td>\n",
       "      <td>8:31:58</td>\n",
       "      <td>-</td>\n",
       "    </tr>\n",
       "    <tr>\n",
       "      <th>2</th>\n",
       "      <td>2019-11-12  - 2019-11-18</td>\n",
       "      <td>7:23:19</td>\n",
       "      <td>-</td>\n",
       "      <td>NaN</td>\n",
       "      <td>7:38:03</td>\n",
       "      <td>-</td>\n",
       "    </tr>\n",
       "    <tr>\n",
       "      <th>3</th>\n",
       "      <td>2019-11-18  - 2019-11-25</td>\n",
       "      <td>7:09:22</td>\n",
       "      <td>-</td>\n",
       "      <td>NaN</td>\n",
       "      <td>7:15:23</td>\n",
       "      <td>-</td>\n",
       "    </tr>\n",
       "    <tr>\n",
       "      <th>4</th>\n",
       "      <td>2019-11-25  - 2019-12-09</td>\n",
       "      <td>6:22:45</td>\n",
       "      <td>-</td>\n",
       "      <td>NaN</td>\n",
       "      <td>6:28:07</td>\n",
       "      <td>-</td>\n",
       "    </tr>\n",
       "  </tbody>\n",
       "</table>\n",
       "</div>"
      ],
      "text/plain": [
       "         Unnamed: 0_level_0 AT FULL CHARGE                    \\\n",
       "                     PERIOD         ACTIVE CONNECTED STANDBY   \n",
       "0  2019-10-28  - 2019-11-04        7:32:44                 -   \n",
       "1  2019-11-04  - 2019-11-12        8:19:35                 -   \n",
       "2  2019-11-12  - 2019-11-18        7:23:19                 -   \n",
       "3  2019-11-18  - 2019-11-25        7:09:22                 -   \n",
       "4  2019-11-25  - 2019-12-09        6:22:45                 -   \n",
       "\n",
       "  Unnamed: 3_level_0 AT DESIGN CAPACITY                    \n",
       "  Unnamed: 3_level_1             ACTIVE CONNECTED STANDBY  \n",
       "0                NaN            7:46:02                 -  \n",
       "1                NaN            8:31:58                 -  \n",
       "2                NaN            7:38:03                 -  \n",
       "3                NaN            7:15:23                 -  \n",
       "4                NaN            6:28:07                 -  "
      ]
     },
     "execution_count": 164,
     "metadata": {},
     "output_type": "execute_result"
    }
   ],
   "source": [
    "print(df2.info()) # colnames are multi-indexed; best to rename\n",
    "\n",
    "df2.head()\n",
    "# Unnamed 3_level_0 col, and nested column, is filled w null values;\n",
    "# Connected_standby cols also appear to have values which can be considered missing (-)"
   ]
  },
  {
   "cell_type": "code",
   "execution_count": 165,
   "metadata": {},
   "outputs": [],
   "source": [
    "df2_1=df2.copy(deep=True) # create a copy of the og df2; just in case\n",
    "df2_1.columns = ['Period','Full_charge_hours','Full_charge_standby','NA','Design_charge_hours','Design_charge_standby']"
   ]
  },
  {
   "cell_type": "code",
   "execution_count": 166,
   "metadata": {},
   "outputs": [
    {
     "data": {
      "text/html": [
       "<div>\n",
       "<style scoped>\n",
       "    .dataframe tbody tr th:only-of-type {\n",
       "        vertical-align: middle;\n",
       "    }\n",
       "\n",
       "    .dataframe tbody tr th {\n",
       "        vertical-align: top;\n",
       "    }\n",
       "\n",
       "    .dataframe thead th {\n",
       "        text-align: right;\n",
       "    }\n",
       "</style>\n",
       "<table border=\"1\" class=\"dataframe\">\n",
       "  <thead>\n",
       "    <tr style=\"text-align: right;\">\n",
       "      <th></th>\n",
       "      <th>Period</th>\n",
       "      <th>Full_charge_hours</th>\n",
       "      <th>Design_charge_hours</th>\n",
       "    </tr>\n",
       "  </thead>\n",
       "  <tbody>\n",
       "    <tr>\n",
       "      <th>0</th>\n",
       "      <td>2019-10-28  - 2019-11-04</td>\n",
       "      <td>7:32:44</td>\n",
       "      <td>7:46:02</td>\n",
       "    </tr>\n",
       "    <tr>\n",
       "      <th>1</th>\n",
       "      <td>2019-11-04  - 2019-11-12</td>\n",
       "      <td>8:19:35</td>\n",
       "      <td>8:31:58</td>\n",
       "    </tr>\n",
       "    <tr>\n",
       "      <th>2</th>\n",
       "      <td>2019-11-12  - 2019-11-18</td>\n",
       "      <td>7:23:19</td>\n",
       "      <td>7:38:03</td>\n",
       "    </tr>\n",
       "    <tr>\n",
       "      <th>3</th>\n",
       "      <td>2019-11-18  - 2019-11-25</td>\n",
       "      <td>7:09:22</td>\n",
       "      <td>7:15:23</td>\n",
       "    </tr>\n",
       "    <tr>\n",
       "      <th>4</th>\n",
       "      <td>2019-11-25  - 2019-12-09</td>\n",
       "      <td>6:22:45</td>\n",
       "      <td>6:28:07</td>\n",
       "    </tr>\n",
       "  </tbody>\n",
       "</table>\n",
       "</div>"
      ],
      "text/plain": [
       "                     Period Full_charge_hours Design_charge_hours\n",
       "0  2019-10-28  - 2019-11-04           7:32:44             7:46:02\n",
       "1  2019-11-04  - 2019-11-12           8:19:35             8:31:58\n",
       "2  2019-11-12  - 2019-11-18           7:23:19             7:38:03\n",
       "3  2019-11-18  - 2019-11-25           7:09:22             7:15:23\n",
       "4  2019-11-25  - 2019-12-09           6:22:45             6:28:07"
      ]
     },
     "execution_count": 166,
     "metadata": {},
     "output_type": "execute_result"
    }
   ],
   "source": [
    "df2_1[['Full_charge_standby','Design_charge_standby']].value_counts() # verify that all the values in both cols are not required\n",
    "# will get rid of those cols + NA col \n",
    "df2_2=df2_1[['Period','Full_charge_hours','Design_charge_hours']]\n",
    "df2_2.head() # can merge with df1 on period col (right?)"
   ]
  },
  {
   "cell_type": "code",
   "execution_count": 167,
   "metadata": {},
   "outputs": [
    {
     "data": {
      "text/plain": [
       "True"
      ]
     },
     "execution_count": 167,
     "metadata": {},
     "output_type": "execute_result"
    }
   ],
   "source": [
    "all(df1['Period']==df2_2['Period']) # right"
   ]
  },
  {
   "cell_type": "code",
   "execution_count": 168,
   "metadata": {},
   "outputs": [
    {
     "data": {
      "text/html": [
       "<div>\n",
       "<style scoped>\n",
       "    .dataframe tbody tr th:only-of-type {\n",
       "        vertical-align: middle;\n",
       "    }\n",
       "\n",
       "    .dataframe tbody tr th {\n",
       "        vertical-align: top;\n",
       "    }\n",
       "\n",
       "    .dataframe thead th {\n",
       "        text-align: right;\n",
       "    }\n",
       "</style>\n",
       "<table border=\"1\" class=\"dataframe\">\n",
       "  <thead>\n",
       "    <tr style=\"text-align: right;\">\n",
       "      <th></th>\n",
       "      <th>Period</th>\n",
       "      <th>Full_charge_cap</th>\n",
       "      <th>Design_cap</th>\n",
       "      <th>Full_charge_hours</th>\n",
       "      <th>Design_charge_hours</th>\n",
       "    </tr>\n",
       "  </thead>\n",
       "  <tbody>\n",
       "    <tr>\n",
       "      <th>0</th>\n",
       "      <td>2019-10-28  - 2019-11-04</td>\n",
       "      <td>60,142 mWh</td>\n",
       "      <td>61,908 mWh</td>\n",
       "      <td>7:32:44</td>\n",
       "      <td>7:46:02</td>\n",
       "    </tr>\n",
       "    <tr>\n",
       "      <th>1</th>\n",
       "      <td>2019-11-04  - 2019-11-12</td>\n",
       "      <td>60,411 mWh</td>\n",
       "      <td>61,908 mWh</td>\n",
       "      <td>8:19:35</td>\n",
       "      <td>8:31:58</td>\n",
       "    </tr>\n",
       "    <tr>\n",
       "      <th>2</th>\n",
       "      <td>2019-11-12  - 2019-11-18</td>\n",
       "      <td>59,917 mWh</td>\n",
       "      <td>61,908 mWh</td>\n",
       "      <td>7:23:19</td>\n",
       "      <td>7:38:03</td>\n",
       "    </tr>\n",
       "    <tr>\n",
       "      <th>3</th>\n",
       "      <td>2019-11-18  - 2019-11-25</td>\n",
       "      <td>61,053 mWh</td>\n",
       "      <td>61,908 mWh</td>\n",
       "      <td>7:09:22</td>\n",
       "      <td>7:15:23</td>\n",
       "    </tr>\n",
       "    <tr>\n",
       "      <th>4</th>\n",
       "      <td>2019-11-25  - 2019-12-09</td>\n",
       "      <td>61,053 mWh</td>\n",
       "      <td>61,908 mWh</td>\n",
       "      <td>6:22:45</td>\n",
       "      <td>6:28:07</td>\n",
       "    </tr>\n",
       "  </tbody>\n",
       "</table>\n",
       "</div>"
      ],
      "text/plain": [
       "                     Period Full_charge_cap  Design_cap Full_charge_hours  \\\n",
       "0  2019-10-28  - 2019-11-04      60,142 mWh  61,908 mWh           7:32:44   \n",
       "1  2019-11-04  - 2019-11-12      60,411 mWh  61,908 mWh           8:19:35   \n",
       "2  2019-11-12  - 2019-11-18      59,917 mWh  61,908 mWh           7:23:19   \n",
       "3  2019-11-18  - 2019-11-25      61,053 mWh  61,908 mWh           7:09:22   \n",
       "4  2019-11-25  - 2019-12-09      61,053 mWh  61,908 mWh           6:22:45   \n",
       "\n",
       "  Design_charge_hours  \n",
       "0             7:46:02  \n",
       "1             8:31:58  \n",
       "2             7:38:03  \n",
       "3             7:15:23  \n",
       "4             6:28:07  "
      ]
     },
     "execution_count": 168,
     "metadata": {},
     "output_type": "execute_result"
    }
   ],
   "source": [
    "df=pd.merge(df1,df2_2,left_on='Period',right_on='Period')\n",
    "df.head() # ok, just have to modify str data to numeric etc; convert types as necessary"
   ]
  },
  {
   "cell_type": "code",
   "execution_count": 169,
   "metadata": {},
   "outputs": [
    {
     "data": {
      "text/html": [
       "<div>\n",
       "<style scoped>\n",
       "    .dataframe tbody tr th:only-of-type {\n",
       "        vertical-align: middle;\n",
       "    }\n",
       "\n",
       "    .dataframe tbody tr th {\n",
       "        vertical-align: top;\n",
       "    }\n",
       "\n",
       "    .dataframe thead th {\n",
       "        text-align: right;\n",
       "    }\n",
       "</style>\n",
       "<table border=\"1\" class=\"dataframe\">\n",
       "  <thead>\n",
       "    <tr style=\"text-align: right;\">\n",
       "      <th></th>\n",
       "      <th>Period</th>\n",
       "      <th>Full_charge_cap</th>\n",
       "      <th>Design_cap</th>\n",
       "      <th>Full_charge_hours</th>\n",
       "      <th>Design_charge_hours</th>\n",
       "      <th>Full_charge_cap_int</th>\n",
       "      <th>Design_cap_int</th>\n",
       "      <th>Full_charge_h</th>\n",
       "      <th>Design_charge_h</th>\n",
       "    </tr>\n",
       "  </thead>\n",
       "  <tbody>\n",
       "    <tr>\n",
       "      <th>0</th>\n",
       "      <td>2019-10-28  - 2019-11-04</td>\n",
       "      <td>60,142 mWh</td>\n",
       "      <td>61,908 mWh</td>\n",
       "      <td>7:32:44</td>\n",
       "      <td>7:46:02</td>\n",
       "      <td>60142</td>\n",
       "      <td>61908</td>\n",
       "      <td>7.545556</td>\n",
       "      <td>7.767222</td>\n",
       "    </tr>\n",
       "    <tr>\n",
       "      <th>1</th>\n",
       "      <td>2019-11-04  - 2019-11-12</td>\n",
       "      <td>60,411 mWh</td>\n",
       "      <td>61,908 mWh</td>\n",
       "      <td>8:19:35</td>\n",
       "      <td>8:31:58</td>\n",
       "      <td>60411</td>\n",
       "      <td>61908</td>\n",
       "      <td>8.326389</td>\n",
       "      <td>8.532778</td>\n",
       "    </tr>\n",
       "    <tr>\n",
       "      <th>2</th>\n",
       "      <td>2019-11-12  - 2019-11-18</td>\n",
       "      <td>59,917 mWh</td>\n",
       "      <td>61,908 mWh</td>\n",
       "      <td>7:23:19</td>\n",
       "      <td>7:38:03</td>\n",
       "      <td>59917</td>\n",
       "      <td>61908</td>\n",
       "      <td>7.388611</td>\n",
       "      <td>7.634167</td>\n",
       "    </tr>\n",
       "    <tr>\n",
       "      <th>3</th>\n",
       "      <td>2019-11-18  - 2019-11-25</td>\n",
       "      <td>61,053 mWh</td>\n",
       "      <td>61,908 mWh</td>\n",
       "      <td>7:09:22</td>\n",
       "      <td>7:15:23</td>\n",
       "      <td>61053</td>\n",
       "      <td>61908</td>\n",
       "      <td>7.156111</td>\n",
       "      <td>7.256389</td>\n",
       "    </tr>\n",
       "    <tr>\n",
       "      <th>4</th>\n",
       "      <td>2019-11-25  - 2019-12-09</td>\n",
       "      <td>61,053 mWh</td>\n",
       "      <td>61,908 mWh</td>\n",
       "      <td>6:22:45</td>\n",
       "      <td>6:28:07</td>\n",
       "      <td>61053</td>\n",
       "      <td>61908</td>\n",
       "      <td>6.379167</td>\n",
       "      <td>6.468611</td>\n",
       "    </tr>\n",
       "  </tbody>\n",
       "</table>\n",
       "</div>"
      ],
      "text/plain": [
       "                     Period Full_charge_cap  Design_cap Full_charge_hours  \\\n",
       "0  2019-10-28  - 2019-11-04      60,142 mWh  61,908 mWh           7:32:44   \n",
       "1  2019-11-04  - 2019-11-12      60,411 mWh  61,908 mWh           8:19:35   \n",
       "2  2019-11-12  - 2019-11-18      59,917 mWh  61,908 mWh           7:23:19   \n",
       "3  2019-11-18  - 2019-11-25      61,053 mWh  61,908 mWh           7:09:22   \n",
       "4  2019-11-25  - 2019-12-09      61,053 mWh  61,908 mWh           6:22:45   \n",
       "\n",
       "  Design_charge_hours  Full_charge_cap_int  Design_cap_int  Full_charge_h  \\\n",
       "0             7:46:02                60142           61908       7.545556   \n",
       "1             8:31:58                60411           61908       8.326389   \n",
       "2             7:38:03                59917           61908       7.388611   \n",
       "3             7:15:23                61053           61908       7.156111   \n",
       "4             6:28:07                61053           61908       6.379167   \n",
       "\n",
       "   Design_charge_h  \n",
       "0         7.767222  \n",
       "1         8.532778  \n",
       "2         7.634167  \n",
       "3         7.256389  \n",
       "4         6.468611  "
      ]
     },
     "execution_count": 169,
     "metadata": {},
     "output_type": "execute_result"
    }
   ],
   "source": [
    "df['Full_charge_cap_int']=df['Full_charge_cap'].apply(lambda x:int((x.split(' ')[0]).replace(',','')))\n",
    "df['Design_cap_int']=df['Design_cap'].apply(lambda x:int((x.split(' ')[0]).replace(',','')))\n",
    "\n",
    "def in_hours(string):\n",
    "    splits=string.split(':')\n",
    "    h,m,s=splits[0],splits[1],splits[2]\n",
    "    res=int(h)+int(m)/60+int(s)/(60*60)\n",
    "    return res\n",
    "\n",
    "df['Full_charge_h']=df['Full_charge_hours'].apply(in_hours)\n",
    "df['Design_charge_h']=df['Design_charge_hours'].apply(in_hours)\n",
    "df.head()"
   ]
  },
  {
   "cell_type": "code",
   "execution_count": 170,
   "metadata": {},
   "outputs": [],
   "source": [
    "# w regards to period, either can replicate data in each interval \n",
    "# e.g. 2019-10-28 - 2019-11-04 can be repeated 7 times for 7 days in week (excluding 2019-11-04 itself for next week)\n",
    "# OR > can just look at 1st date\n",
    "# since no ML model being trained + dataset doesn't neeeed to be large; will go w latter option\n",
    "\n",
    "df['Period']=df['Period'].apply(lambda x: x.split(' - ')[0])\n",
    "df['Period_date']=pd.to_datetime(df['Period']).dt.date \n",
    "\n",
    "# Data cleaning done> now for manipulation and analysis"
   ]
  },
  {
   "cell_type": "code",
   "execution_count": 171,
   "metadata": {},
   "outputs": [
    {
     "name": "stdout",
     "output_type": "stream",
     "text": [
      "                   Charge_percentage  Hours_percentage\n",
      "Charge_percentage                1.0               1.0\n",
      "Hours_percentage                 1.0               1.0\n"
     ]
    },
    {
     "data": {
      "text/html": [
       "<div>\n",
       "<style scoped>\n",
       "    .dataframe tbody tr th:only-of-type {\n",
       "        vertical-align: middle;\n",
       "    }\n",
       "\n",
       "    .dataframe tbody tr th {\n",
       "        vertical-align: top;\n",
       "    }\n",
       "\n",
       "    .dataframe thead th {\n",
       "        text-align: right;\n",
       "    }\n",
       "</style>\n",
       "<table border=\"1\" class=\"dataframe\">\n",
       "  <thead>\n",
       "    <tr style=\"text-align: right;\">\n",
       "      <th></th>\n",
       "      <th>Charge_percentage</th>\n",
       "      <th>Hours_percentage</th>\n",
       "    </tr>\n",
       "  </thead>\n",
       "  <tbody>\n",
       "    <tr>\n",
       "      <th>0</th>\n",
       "      <td>97.147380</td>\n",
       "      <td>97.146127</td>\n",
       "    </tr>\n",
       "    <tr>\n",
       "      <th>1</th>\n",
       "      <td>97.581896</td>\n",
       "      <td>97.581223</td>\n",
       "    </tr>\n",
       "    <tr>\n",
       "      <th>2</th>\n",
       "      <td>96.783937</td>\n",
       "      <td>96.783466</td>\n",
       "    </tr>\n",
       "    <tr>\n",
       "      <th>3</th>\n",
       "      <td>98.618918</td>\n",
       "      <td>98.618076</td>\n",
       "    </tr>\n",
       "    <tr>\n",
       "      <th>4</th>\n",
       "      <td>98.618918</td>\n",
       "      <td>98.617254</td>\n",
       "    </tr>\n",
       "    <tr>\n",
       "      <th>...</th>\n",
       "      <td>...</td>\n",
       "      <td>...</td>\n",
       "    </tr>\n",
       "    <tr>\n",
       "      <th>192</th>\n",
       "      <td>65.413194</td>\n",
       "      <td>65.410941</td>\n",
       "    </tr>\n",
       "    <tr>\n",
       "      <th>193</th>\n",
       "      <td>66.820120</td>\n",
       "      <td>66.815442</td>\n",
       "    </tr>\n",
       "    <tr>\n",
       "      <th>194</th>\n",
       "      <td>65.460037</td>\n",
       "      <td>65.458747</td>\n",
       "    </tr>\n",
       "    <tr>\n",
       "      <th>195</th>\n",
       "      <td>65.829941</td>\n",
       "      <td>65.828837</td>\n",
       "    </tr>\n",
       "    <tr>\n",
       "      <th>196</th>\n",
       "      <td>67.198100</td>\n",
       "      <td>67.195734</td>\n",
       "    </tr>\n",
       "  </tbody>\n",
       "</table>\n",
       "<p>197 rows × 2 columns</p>\n",
       "</div>"
      ],
      "text/plain": [
       "     Charge_percentage  Hours_percentage\n",
       "0            97.147380         97.146127\n",
       "1            97.581896         97.581223\n",
       "2            96.783937         96.783466\n",
       "3            98.618918         98.618076\n",
       "4            98.618918         98.617254\n",
       "..                 ...               ...\n",
       "192          65.413194         65.410941\n",
       "193          66.820120         66.815442\n",
       "194          65.460037         65.458747\n",
       "195          65.829941         65.828837\n",
       "196          67.198100         67.195734\n",
       "\n",
       "[197 rows x 2 columns]"
      ]
     },
     "execution_count": 171,
     "metadata": {},
     "output_type": "execute_result"
    }
   ],
   "source": [
    "df['Charge_percentage']=df['Full_charge_cap_int']/df['Design_cap_int']*100\n",
    "df['Hours_percentage']=df['Full_charge_h']/df['Design_charge_h']*100\n",
    "print(df[['Charge_percentage','Hours_percentage']].corr()) # strong corr w each other\n",
    "# like real strong\n",
    "df[['Charge_percentage','Hours_percentage']]"
   ]
  },
  {
   "cell_type": "code",
   "execution_count": 197,
   "metadata": {},
   "outputs": [
    {
     "name": "stderr",
     "output_type": "stream",
     "text": [
      "c:\\Users\\acer\\AppData\\Local\\Programs\\Python\\Python39\\lib\\site-packages\\pandas\\plotting\\_matplotlib\\core.py:1114: UserWarning: No data for colormapping provided via 'c'. Parameters 'cmap' will be ignored\n",
      "  scatter = ax.scatter(\n"
     ]
    },
    {
     "data": {
      "text/plain": [
       "<AxesSubplot: xlabel='Charge_percentage', ylabel='Hours_percentage'>"
      ]
     },
     "execution_count": 197,
     "metadata": {},
     "output_type": "execute_result"
    },
    {
     "data": {
      "image/png": "[encoded data removed]",
      "text/plain": [
       "<Figure size 640x480 with 1 Axes>"
      ]
     },
     "metadata": {},
     "output_type": "display_data"
    }
   ],
   "source": [
    "df[['Charge_percentage','Hours_percentage']].plot(kind='scatter',x='Charge_percentage',y='Hours_percentage',color='red')"
   ]
  },
  {
   "cell_type": "code",
   "execution_count": 172,
   "metadata": {},
   "outputs": [
    {
     "name": "stderr",
     "output_type": "stream",
     "text": [
      "c:\\Users\\acer\\AppData\\Local\\Programs\\Python\\Python39\\lib\\site-packages\\pandas\\plotting\\_matplotlib\\core.py:1114: UserWarning: No data for colormapping provided via 'c'. Parameters 'cmap' will be ignored\n",
      "  scatter = ax.scatter(\n"
     ]
    },
    {
     "data": {
      "text/plain": [
       "<AxesSubplot: xlabel='Period_date', ylabel='Full_charge_h'>"
      ]
     },
     "execution_count": 172,
     "metadata": {},
     "output_type": "execute_result"
    },
    {
     "data": {
      "image/png": "[encoded data removed]",
      "text/plain": [
       "<Figure size 640x480 with 1 Axes>"
      ]
     },
     "metadata": {},
     "output_type": "display_data"
    }
   ],
   "source": [
    "df[['Period_date','Full_charge_h']].plot(kind='scatter',x='Period_date',y='Full_charge_h') # trend line is decreasing\n",
    "# does seem to be significant period when hours for which full charge lasts drop a lot\n",
    "# 8/2020 - 2/2021 & 6/2021 - 10/2021 > aft which remains fairly constant for most part"
   ]
  },
  {
   "cell_type": "code",
   "execution_count": 198,
   "metadata": {},
   "outputs": [
    {
     "data": {
      "text/plain": [
       "<AxesSubplot: xlabel='Period_date'>"
      ]
     },
     "execution_count": 198,
     "metadata": {},
     "output_type": "execute_result"
    },
    {
     "data": {
      "image/png": "[encoded data removed]",
      "text/plain": [
       "<Figure size 640x480 with 1 Axes>"
      ]
     },
     "metadata": {},
     "output_type": "display_data"
    }
   ],
   "source": [
    "df[['Period_date','Charge_percentage']].plot(kind='line',x='Period_date',y='Charge_percentage') # especially clear in this graph\n",
    "# notably btw 7/2020 & 1/2021"
   ]
  },
  {
   "cell_type": "code",
   "execution_count": 174,
   "metadata": {},
   "outputs": [
    {
     "name": "stderr",
     "output_type": "stream",
     "text": [
      "c:\\Users\\acer\\AppData\\Local\\Programs\\Python\\Python39\\lib\\site-packages\\pandas\\plotting\\_matplotlib\\core.py:1114: UserWarning: No data for colormapping provided via 'c'. Parameters 'cmap' will be ignored\n",
      "  scatter = ax.scatter(\n"
     ]
    },
    {
     "data": {
      "text/plain": [
       "<AxesSubplot: xlabel='Period_date', ylabel='Charge_percentage'>"
      ]
     },
     "execution_count": 174,
     "metadata": {},
     "output_type": "execute_result"
    },
    {
     "data": {
      "image/png": "[encoded data removed]",
      "text/plain": [
       "<Figure size 1300x500 with 1 Axes>"
      ]
     },
     "metadata": {},
     "output_type": "display_data"
    }
   ],
   "source": [
    "df[['Period_date','Charge_percentage']].plot(kind='scatter',x='Period_date',y='Charge_percentage',figsize=(13,5))\n",
    "# enhance a lil bit more aaaand"
   ]
  },
  {
   "cell_type": "code",
   "execution_count": 214,
   "metadata": {},
   "outputs": [
    {
     "name": "stdout",
     "output_type": "stream",
     "text": [
      "1st Recorded Date of Battery: 2019-10-28\n"
     ]
    },
    {
     "data": {
      "image/png": "[encoded data removed]",
      "text/plain": [
       "<Figure size 1100x500 with 1 Axes>"
      ]
     },
     "metadata": {},
     "output_type": "display_data"
    }
   ],
   "source": [
    "# presto!\n",
    "df[(df['Period_date']>dt.date(2020,9,1)) & (df['Period_date']<dt.date(2021,1,1))].plot(kind='line',marker='o',markersize=10,markerfacecolor='red',x='Period_date',y='Charge_percentage',figsize=(11,5))\n",
    "# interesting that the sudden drop in battery % occured very close to the 1 year mark of the laptop's acquisition\n",
    "print('1st Recorded Date of Battery:',df['Period_date'].min())\n",
    "# causes unknown still > could be new installation at the time; but then again> have been adding multiple things to com > battery hasn't \n",
    "# had as rapid a decrease in performance as during that interval - noteworthy, tho inconclusive"
   ]
  }
 ],
 "metadata": {
  "kernelspec": {
   "display_name": "Python 3",
   "language": "python",
   "name": "python3"
  },
  "language_info": {
   "codemirror_mode": {
    "name": "ipython",
    "version": 3
   },
   "file_extension": ".py",
   "mimetype": "text/x-python",
   "name": "python",
   "nbconvert_exporter": "python",
   "pygments_lexer": "ipython3",
   "version": "3.9.1"
  },
  "orig_nbformat": 4
 },
 "nbformat": 4,
 "nbformat_minor": 2
}
